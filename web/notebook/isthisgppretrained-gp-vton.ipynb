{
 "cells": [
  {
   "cell_type": "markdown",
   "id": "0c62cfb8",
   "metadata": {
    "_cell_guid": "721901bb-3f26-4725-aed4-c964e80ad697",
    "_uuid": "108f8757-bc4a-467f-ab74-76ff9ee3671f",
    "papermill": {
     "duration": 0.003084,
     "end_time": "2024-06-26T21:55:04.703770",
     "exception": false,
     "start_time": "2024-06-26T21:55:04.700686",
     "status": "completed"
    },
    "tags": []
   },
   "source": [
    "Before running, Make sure that you select the right versions of your inputs\n",
    "\n",
    "Inputs:\n",
    "1. Checkpoints dataset (Warping + tryon)\n",
    "2. Input images dataset\n",
    "    * Person\n",
    "    * Person Parse\n",
    "    * Person Densepose\n",
    "    * Person keypoints\n",
    "    * Cloth\n",
    "    * Cloth Mask\n",
    "    * Cloth Parse"
   ]
  },
  {
   "cell_type": "code",
   "execution_count": 1,
   "id": "6d476ae8",
   "metadata": {
    "_cell_guid": "e8e30873-95af-49a1-aefa-7a11f7b6cfac",
    "_uuid": "2caa19cd-d18a-4066-88f0-7ed20b1c08c3",
    "collapsed": false,
    "execution": {
     "iopub.execute_input": "2024-06-26T21:55:04.710516Z",
     "iopub.status.busy": "2024-06-26T21:55:04.710164Z",
     "iopub.status.idle": "2024-06-26T21:55:18.581570Z",
     "shell.execute_reply": "2024-06-26T21:55:18.580640Z"
    },
    "jupyter": {
     "outputs_hidden": false
    },
    "papermill": {
     "duration": 13.877442,
     "end_time": "2024-06-26T21:55:18.583882",
     "exception": false,
     "start_time": "2024-06-26T21:55:04.706440",
     "status": "completed"
    },
    "tags": []
   },
   "outputs": [
    {
     "name": "stdout",
     "output_type": "stream",
     "text": [
      "Collecting pycocotools\r\n",
      "  Downloading pycocotools-2.0.8-cp310-cp310-manylinux_2_17_x86_64.manylinux2014_x86_64.whl.metadata (1.1 kB)\r\n",
      "Requirement already satisfied: matplotlib>=2.1.0 in /opt/conda/lib/python3.10/site-packages (from pycocotools) (3.7.4)\r\n",
      "Requirement already satisfied: numpy in /opt/conda/lib/python3.10/site-packages (from pycocotools) (1.24.4)\r\n",
      "Requirement already satisfied: contourpy>=1.0.1 in /opt/conda/lib/python3.10/site-packages (from matplotlib>=2.1.0->pycocotools) (1.2.0)\r\n",
      "Requirement already satisfied: cycler>=0.10 in /opt/conda/lib/python3.10/site-packages (from matplotlib>=2.1.0->pycocotools) (0.12.1)\r\n",
      "Requirement already satisfied: fonttools>=4.22.0 in /opt/conda/lib/python3.10/site-packages (from matplotlib>=2.1.0->pycocotools) (4.47.0)\r\n",
      "Requirement already satisfied: kiwisolver>=1.0.1 in /opt/conda/lib/python3.10/site-packages (from matplotlib>=2.1.0->pycocotools) (1.4.5)\r\n",
      "Requirement already satisfied: packaging>=20.0 in /opt/conda/lib/python3.10/site-packages (from matplotlib>=2.1.0->pycocotools) (21.3)\r\n",
      "Requirement already satisfied: pillow>=6.2.0 in /opt/conda/lib/python3.10/site-packages (from matplotlib>=2.1.0->pycocotools) (9.5.0)\r\n",
      "Requirement already satisfied: pyparsing>=2.3.1 in /opt/conda/lib/python3.10/site-packages (from matplotlib>=2.1.0->pycocotools) (3.1.1)\r\n",
      "Requirement already satisfied: python-dateutil>=2.7 in /opt/conda/lib/python3.10/site-packages (from matplotlib>=2.1.0->pycocotools) (2.8.2)\r\n",
      "Requirement already satisfied: six>=1.5 in /opt/conda/lib/python3.10/site-packages (from python-dateutil>=2.7->matplotlib>=2.1.0->pycocotools) (1.16.0)\r\n",
      "Downloading pycocotools-2.0.8-cp310-cp310-manylinux_2_17_x86_64.manylinux2014_x86_64.whl (427 kB)\r\n",
      "\u001b[2K   \u001b[90m━━━━━━━━━━━━━━━━━━━━━━━━━━━━━━━━━━━━━━━━\u001b[0m \u001b[32m427.8/427.8 kB\u001b[0m \u001b[31m6.3 MB/s\u001b[0m eta \u001b[36m0:00:00\u001b[0m\r\n",
      "\u001b[?25hInstalling collected packages: pycocotools\r\n",
      "Successfully installed pycocotools-2.0.8\r\n"
     ]
    }
   ],
   "source": [
    "# MUST be Done every session\n",
    "!pip install pycocotools"
   ]
  },
  {
   "cell_type": "code",
   "execution_count": 2,
   "id": "e66bd39c",
   "metadata": {
    "execution": {
     "iopub.execute_input": "2024-06-26T21:55:18.591931Z",
     "iopub.status.busy": "2024-06-26T21:55:18.591594Z",
     "iopub.status.idle": "2024-06-26T21:55:22.226278Z",
     "shell.execute_reply": "2024-06-26T21:55:22.225513Z"
    },
    "papermill": {
     "duration": 3.641248,
     "end_time": "2024-06-26T21:55:22.228578",
     "exception": false,
     "start_time": "2024-06-26T21:55:18.587330",
     "status": "completed"
    },
    "tags": []
   },
   "outputs": [],
   "source": [
    "import torch"
   ]
  },
  {
   "cell_type": "code",
   "execution_count": 3,
   "id": "562f48f4",
   "metadata": {
    "_cell_guid": "607ae357-ce76-4f26-8ea2-07e1cc7d81bd",
    "_uuid": "3af725c7-728b-4f61-a9dd-5ed00a3c3816",
    "collapsed": false,
    "execution": {
     "iopub.execute_input": "2024-06-26T21:55:22.236871Z",
     "iopub.status.busy": "2024-06-26T21:55:22.236275Z",
     "iopub.status.idle": "2024-06-26T21:55:45.513015Z",
     "shell.execute_reply": "2024-06-26T21:55:45.512051Z"
    },
    "jupyter": {
     "outputs_hidden": false
    },
    "papermill": {
     "duration": 23.283235,
     "end_time": "2024-06-26T21:55:45.515313",
     "exception": false,
     "start_time": "2024-06-26T21:55:22.232078",
     "status": "completed"
    },
    "tags": []
   },
   "outputs": [
    {
     "name": "stdout",
     "output_type": "stream",
     "text": [
      "ArgumentParser(prog='test_warping.py', usage=None, description=None, formatter_class=<class 'argparse.HelpFormatter'>, conflict_handler='error', add_help=False)\r\n",
      "------------ Options -------------\r\n",
      "CPM_D_checkpoint: None\r\n",
      "CPM_checkpoint: None\r\n",
      "PBAFN_gen_checkpoint: checkpoints/gp-vton_gen_vitonhd_wskin_wgan_lrarms_1029/PBAFN_gen_epoch_201.pth\r\n",
      "PBAFN_warp_checkpoint: /kaggle/input/gp-vton-dataset/checkpoints/checkpoints/gp-vton_partflow_vitonhd_usepreservemask_lrarms_1027/PBAFN_warp_epoch_121.pth\r\n",
      "PFAFN_gen_checkpoint: None\r\n",
      "PFAFN_warp_checkpoint: None\r\n",
      "add_mask_tvloss: False\r\n",
      "batchSize: 2\r\n",
      "beta1: 0.5\r\n",
      "checkpoints_dir: ./checkpoints\r\n",
      "continue_train: False\r\n",
      "data_type: 32\r\n",
      "dataroot: /kaggle/input/vitonhdmody\r\n",
      "dataset: vitonhd\r\n",
      "debug: False\r\n",
      "debug_test: False\r\n",
      "debug_train: False\r\n",
      "display_freq: 100\r\n",
      "display_freq_eval: 100\r\n",
      "display_winsize: 512\r\n",
      "fineSize: 512\r\n",
      "first_order_smooth_weight: 0.01\r\n",
      "gpu_ids: [0, 1]\r\n",
      "image_pairs_txt: /kaggle/input/vitonhdmody/inference.txt\r\n",
      "image_pairs_txt_eval: \r\n",
      "image_test_pairs_txt: \r\n",
      "input_nc: 3\r\n",
      "isTrain: True\r\n",
      "label_nc: 14\r\n",
      "lambda_feat: 10.0\r\n",
      "launcher: pytorch\r\n",
      "loadSize: 512\r\n",
      "load_pretrain: \r\n",
      "local_rank: 0\r\n",
      "loss_ce: 1\r\n",
      "loss_gan: 1\r\n",
      "lr: 5e-05\r\n",
      "lr_D: 5e-05\r\n",
      "mask_epoch: -1\r\n",
      "master_port: 7129\r\n",
      "max_dataset_size: inf\r\n",
      "nThreads: 1\r\n",
      "n_blocks_global: 4\r\n",
      "n_blocks_local: 3\r\n",
      "n_downsample_global: 4\r\n",
      "n_layers_D: 3\r\n",
      "n_local_enhancers: 1\r\n",
      "name: flow\r\n",
      "ndf: 64\r\n",
      "netG: global\r\n",
      "ngf: 64\r\n",
      "niter: 50\r\n",
      "niter_decay: 50\r\n",
      "niter_fix_global: 0\r\n",
      "no_dynamic_mask: False\r\n",
      "no_flip: False\r\n",
      "no_ganFeat_loss: False\r\n",
      "no_html: False\r\n",
      "no_lsgan: False\r\n",
      "no_vgg_loss: False\r\n",
      "norm: instance\r\n",
      "nproc_per_node: 1\r\n",
      "num_D: 2\r\n",
      "num_gpus: 2\r\n",
      "output_nc: 3\r\n",
      "phase: train\r\n",
      "pool_size: 0\r\n",
      "pretrain_checkpoint_D: None\r\n",
      "print_freq: 100\r\n",
      "repeat_num: 6\r\n",
      "resize_or_crop: none\r\n",
      "resolution: 512\r\n",
      "save_epoch_freq: 20\r\n",
      "save_latest_freq: 1000\r\n",
      "serial_batches: False\r\n",
      "squaretv_weight: 1\r\n",
      "test_flip: False\r\n",
      "tf_log: False\r\n",
      "tv_weight: 0.1\r\n",
      "use_dropout: False\r\n",
      "use_preserve_mask_refine: False\r\n",
      "verbose: False\r\n",
      "warproot: \r\n",
      "which_epoch: latest\r\n",
      "write_loss_frep: 100\r\n",
      "write_loss_frep_eval: 100\r\n",
      "-------------- End ----------------\r\n",
      "  0%|                                                     | 0/1 [00:00<?, ?it/s]/kaggle/input/testwarping-and-testtryon/ModyVITON-main/test_warping.py:1910: UserWarning: The torch.cuda.*DtypeTensor constructors are no longer recommended. It's best to use methods such as torch.tensor(data, dtype=*, device='cuda') to create tensors. (Triggered internally at /usr/local/src/pytorch/torch/csrc/tensor/python_tensor.cpp:83.)\r\n",
      "  densepose = torch.cuda.FloatTensor(torch.Size(oneHot_size1)).zero_()\r\n",
      "/opt/conda/lib/python3.10/site-packages/torch/functional.py:504: UserWarning: torch.meshgrid: in an upcoming release, it will be required to pass the indexing argument. (Triggered internally at /usr/local/src/pytorch/aten/src/ATen/native/TensorShape.cpp:3526.)\r\n",
      "  return _VF.meshgrid(tensors, **kwargs)  # type: ignore[attr-defined]\r\n",
      "/opt/conda/lib/python3.10/site-packages/torch/nn/functional.py:4296: UserWarning: Default grid_sample and affine_grid behavior has changed to align_corners=False since 1.3.0. Please specify align_corners=True if the old behavior is desired. See the documentation of grid_sample for details.\r\n",
      "  warnings.warn(\r\n",
      "100%|█████████████████████████████████████████████| 1/1 [00:04<00:00,  4.04s/it]\r\n"
     ]
    }
   ],
   "source": [
    "!torchrun /kaggle/input/testwarping-and-testtryon/ModyVITON-main/test_warping.py"
   ]
  },
  {
   "cell_type": "code",
   "execution_count": 4,
   "id": "131bbe0d",
   "metadata": {
    "execution": {
     "iopub.execute_input": "2024-06-26T21:55:45.525521Z",
     "iopub.status.busy": "2024-06-26T21:55:45.525180Z",
     "iopub.status.idle": "2024-06-26T21:55:46.469329Z",
     "shell.execute_reply": "2024-06-26T21:55:46.468286Z"
    },
    "papermill": {
     "duration": 0.952087,
     "end_time": "2024-06-26T21:55:46.471886",
     "exception": false,
     "start_time": "2024-06-26T21:55:45.519799",
     "status": "completed"
    },
    "tags": []
   },
   "outputs": [
    {
     "name": "stdout",
     "output_type": "stream",
     "text": [
      "/kaggle/working\n",
      "__notebook__.ipynb  sample  upper___10698_00.png___00121_00.png\r\n"
     ]
    }
   ],
   "source": [
    "# Refresh the output\n",
    "%cd /kaggle/working\n",
    "!ls"
   ]
  },
  {
   "cell_type": "code",
   "execution_count": 5,
   "id": "beae87d0",
   "metadata": {
    "_cell_guid": "ba1b8022-34ac-4d86-b811-bb01f8c0d676",
    "_uuid": "7ab9efe7-78e7-4926-b19a-5a4deacfbe4f",
    "collapsed": false,
    "execution": {
     "iopub.execute_input": "2024-06-26T21:55:46.482146Z",
     "iopub.status.busy": "2024-06-26T21:55:46.481821Z",
     "iopub.status.idle": "2024-06-26T21:55:59.724036Z",
     "shell.execute_reply": "2024-06-26T21:55:59.722843Z"
    },
    "jupyter": {
     "outputs_hidden": false
    },
    "papermill": {
     "duration": 13.250094,
     "end_time": "2024-06-26T21:55:59.726484",
     "exception": false,
     "start_time": "2024-06-26T21:55:46.476390",
     "status": "completed"
    },
    "tags": []
   },
   "outputs": [
    {
     "name": "stdout",
     "output_type": "stream",
     "text": [
      "------------ Options -------------\r\n",
      "CPM_D_checkpoint: None\r\n",
      "CPM_checkpoint: None\r\n",
      "PBAFN_gen_checkpoint: /kaggle/input/gp-vton-dataset/checkpoints/checkpoints/gp-vton_gen_vitonhd_wskin_wgan_lrarms_1029/PBAFN_gen_epoch_201.pth\r\n",
      "PBAFN_warp_checkpoint: checkpoints/gp-vton_partflow_vitonhd_usepreservemask_lrarms_1027/PBAFN_warp_epoch_121.pth\r\n",
      "PFAFN_gen_checkpoint: None\r\n",
      "PFAFN_warp_checkpoint: None\r\n",
      "add_mask_tvloss: False\r\n",
      "batchSize: 2\r\n",
      "beta1: 0.5\r\n",
      "checkpoints_dir: ./checkpoints\r\n",
      "continue_train: False\r\n",
      "data_type: 32\r\n",
      "dataroot: /kaggle/input/vitonhdmody\r\n",
      "dataset: vitonhd\r\n",
      "debug: False\r\n",
      "debug_test: False\r\n",
      "debug_train: False\r\n",
      "display_freq: 100\r\n",
      "display_freq_eval: 100\r\n",
      "display_winsize: 512\r\n",
      "fineSize: 512\r\n",
      "first_order_smooth_weight: 0.01\r\n",
      "gpu_ids: [0, 1]\r\n",
      "image_pairs_txt: /kaggle/input/vitonhdmody/inference.txt\r\n",
      "image_pairs_txt_eval: \r\n",
      "image_test_pairs_txt: \r\n",
      "input_nc: 3\r\n",
      "isTrain: True\r\n",
      "label_nc: 14\r\n",
      "lambda_feat: 10.0\r\n",
      "launcher: pytorch\r\n",
      "loadSize: 512\r\n",
      "load_pretrain: \r\n",
      "local_rank: 0\r\n",
      "loss_ce: 1\r\n",
      "loss_gan: 1\r\n",
      "lr: 5e-05\r\n",
      "lr_D: 5e-05\r\n",
      "mask_epoch: -1\r\n",
      "master_port: 7129\r\n",
      "max_dataset_size: inf\r\n",
      "nThreads: 1\r\n",
      "n_blocks_global: 4\r\n",
      "n_blocks_local: 3\r\n",
      "n_downsample_global: 4\r\n",
      "n_layers_D: 3\r\n",
      "n_local_enhancers: 1\r\n",
      "name: flow\r\n",
      "ndf: 64\r\n",
      "netG: global\r\n",
      "ngf: 64\r\n",
      "niter: 50\r\n",
      "niter_decay: 50\r\n",
      "niter_fix_global: 0\r\n",
      "no_dynamic_mask: False\r\n",
      "no_flip: False\r\n",
      "no_ganFeat_loss: False\r\n",
      "no_html: False\r\n",
      "no_lsgan: False\r\n",
      "no_vgg_loss: False\r\n",
      "norm: instance\r\n",
      "nproc_per_node: 1\r\n",
      "num_D: 2\r\n",
      "num_gpus: 2\r\n",
      "output_nc: 3\r\n",
      "phase: train\r\n",
      "pool_size: 0\r\n",
      "pretrain_checkpoint_D: None\r\n",
      "print_freq: 100\r\n",
      "repeat_num: 6\r\n",
      "resize_or_crop: none\r\n",
      "resolution: 512\r\n",
      "save_epoch_freq: 20\r\n",
      "save_latest_freq: 1000\r\n",
      "serial_batches: False\r\n",
      "squaretv_weight: 1\r\n",
      "test_flip: False\r\n",
      "tf_log: False\r\n",
      "tv_weight: 0.1\r\n",
      "use_dropout: False\r\n",
      "use_preserve_mask_refine: False\r\n",
      "verbose: False\r\n",
      "warproot: /kaggle/working\r\n",
      "which_epoch: latest\r\n",
      "write_loss_frep: 100\r\n",
      "write_loss_frep_eval: 100\r\n",
      "-------------- End ----------------\r\n",
      "100%|█████████████████████████████████████████████| 1/1 [00:00<00:00,  1.37it/s]\r\n"
     ]
    }
   ],
   "source": [
    "!torchrun /kaggle/input/testwarping-and-testtryon/ModyVITON-main/test_tryon.py"
   ]
  }
 ],
 "metadata": {
  "kaggle": {
   "accelerator": "gpu",
   "dataSources": [
    {
     "datasetId": 3579205,
     "sourceId": 6239719,
     "sourceType": "datasetVersion"
    },
    {
     "datasetId": 4439516,
     "sourceId": 8789423,
     "sourceType": "datasetVersion"
    },
    {
     "datasetId": 5284359,
     "sourceId": 8789588,
     "sourceType": "datasetVersion"
    }
   ],
   "dockerImageVersionId": 30648,
   "isGpuEnabled": true,
   "isInternetEnabled": true,
   "language": "python",
   "sourceType": "notebook"
  },
  "kernelspec": {
   "display_name": "Python 3",
   "language": "python",
   "name": "python3"
  },
  "language_info": {
   "codemirror_mode": {
    "name": "ipython",
    "version": 3
   },
   "file_extension": ".py",
   "mimetype": "text/x-python",
   "name": "python",
   "nbconvert_exporter": "python",
   "pygments_lexer": "ipython3",
   "version": "3.10.13"
  },
  "papermill": {
   "default_parameters": {},
   "duration": 58.557242,
   "end_time": "2024-06-26T21:56:00.451322",
   "environment_variables": {},
   "exception": null,
   "input_path": "__notebook__.ipynb",
   "output_path": "__notebook__.ipynb",
   "parameters": {},
   "start_time": "2024-06-26T21:55:01.894080",
   "version": "2.5.0"
  }
 },
 "nbformat": 4,
 "nbformat_minor": 5
}
